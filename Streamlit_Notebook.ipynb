{
  "nbformat": 4,
  "nbformat_minor": 0,
  "metadata": {
    "colab": {
      "name": "Streamlit Notebook.ipynb",
      "provenance": [],
      "mount_file_id": "1y_yKuQ5oH0iZmnQYQoWyqZQREpJHhzfq",
      "authorship_tag": "ABX9TyMSzBKkcn8PjdyKjf6ecYBI",
      "include_colab_link": true
    },
    "kernelspec": {
      "name": "python3",
      "display_name": "Python 3"
    },
    "language_info": {
      "name": "python"
    }
  },
  "cells": [
    {
      "cell_type": "markdown",
      "metadata": {
        "id": "view-in-github",
        "colab_type": "text"
      },
      "source": [
        "<a href=\"https://colab.research.google.com/github/neha-binny/Human-Horse/blob/main/Streamlit_Notebook.ipynb\" target=\"_parent\"><img src=\"https://colab.research.google.com/assets/colab-badge.svg\" alt=\"Open In Colab\"/></a>"
      ]
    },
    {
      "cell_type": "code",
      "metadata": {
        "colab": {
          "base_uri": "https://localhost:8080/"
        },
        "id": "3ulsCy-7d29e",
        "outputId": "0ac422bd-ca96-4aae-b2e1-945b5393031c"
      },
      "source": [
        "!pip install streamlit --quiet\n",
        "!pip install pyngrok==4.1.1 --quiet\n",
        "from pyngrok import ngrok"
      ],
      "execution_count": null,
      "outputs": [
        {
          "output_type": "stream",
          "text": [
            "\u001b[K     |████████████████████████████████| 8.2MB 6.4MB/s \n",
            "\u001b[K     |████████████████████████████████| 81kB 6.3MB/s \n",
            "\u001b[K     |████████████████████████████████| 4.2MB 35.7MB/s \n",
            "\u001b[K     |████████████████████████████████| 112kB 46.4MB/s \n",
            "\u001b[K     |████████████████████████████████| 163kB 44.6MB/s \n",
            "\u001b[K     |████████████████████████████████| 122kB 57.2MB/s \n",
            "\u001b[K     |████████████████████████████████| 71kB 6.5MB/s \n",
            "\u001b[?25h  Building wheel for blinker (setup.py) ... \u001b[?25l\u001b[?25hdone\n",
            "\u001b[31mERROR: google-colab 1.0.0 has requirement ipykernel~=4.10, but you'll have ipykernel 5.5.3 which is incompatible.\u001b[0m\n",
            "  Building wheel for pyngrok (setup.py) ... \u001b[?25l\u001b[?25hdone\n"
          ],
          "name": "stdout"
        }
      ]
    },
    {
      "cell_type": "code",
      "metadata": {
        "colab": {
          "base_uri": "https://localhost:8080/"
        },
        "id": "QiyyZzzld6xa",
        "outputId": "7832db29-a7ec-407c-f219-c3a36e66d37d"
      },
      "source": [
        "%%writefile app.py\n",
        "import streamlit as st\n",
        "from tensorflow import keras\n",
        "from tensorflow.keras.preprocessing import image\n",
        "import numpy as np\n",
        "from PIL import Image # Strreamlit works with PIL library very easily for Images\n",
        "import cv2\n",
        "model = keras.models.load_model('/content/drive/MyDrive/Python/Major Project/horse_human2.hdf5')\n",
        "from keras.applications.mobilenet_v2 import preprocess_input,decode_predictions\n",
        "st.title(\"Image - CLassifier\")\n",
        "st.markdown(\"**The Image-Classifier distinguishes between a Human and a Horse**\")\n",
        "upload = st.sidebar.file_uploader('Upload the image')\n",
        "if upload is not None:\n",
        "  file_bytes = np.asarray(bytearray(upload.read()), dtype=np.uint8)\n",
        "  opencv_image = cv2.imdecode(file_bytes, 1)\n",
        "  opencv_image = cv2.cvtColor(opencv_image,cv2.COLOR_BGR2RGB) # Color from BGR to RGB\n",
        "  img = Image.open(upload)\n",
        "  st.image(img,caption='Uploaded Image',width=300)\n",
        "  if st.sidebar.button('PREDICT'):\n",
        "    st.sidebar.write(\"Result:\")\n",
        "    x = cv2.resize(opencv_image,(224,224))\n",
        "    x =x.reshape((224,224,3))\n",
        "    x = image.img_to_array(x)\n",
        "    x = np.expand_dims(x,axis=0)\n",
        "    y = model.predict(x)\n",
        "    y = np.array(y)\n",
        "    a=int(y[0][0])\n",
        "    categories = ['Human','Horse']\n",
        "    st.sidebar.title(categories[a])\n",
        "    \n"
      ],
      "execution_count": null,
      "outputs": [
        {
          "output_type": "stream",
          "text": [
            "Overwriting app.py\n"
          ],
          "name": "stdout"
        }
      ]
    },
    {
      "cell_type": "code",
      "metadata": {
        "colab": {
          "base_uri": "https://localhost:8080/",
          "height": 54
        },
        "id": "5gTIkZBOf5HL",
        "outputId": "d1ec5e5e-54b7-4ba0-ec3c-45069077e431"
      },
      "source": [
        "!nohup streamlit run app.py &\n",
        "url = ngrok.connect(port='8501')\n",
        "url"
      ],
      "execution_count": null,
      "outputs": [
        {
          "output_type": "stream",
          "text": [
            "nohup: appending output to 'nohup.out'\n"
          ],
          "name": "stdout"
        },
        {
          "output_type": "execute_result",
          "data": {
            "application/vnd.google.colaboratory.intrinsic+json": {
              "type": "string"
            },
            "text/plain": [
              "'http://6bb22c56f69f.ngrok.io'"
            ]
          },
          "metadata": {
            "tags": []
          },
          "execution_count": 3
        }
      ]
    }
  ]
}